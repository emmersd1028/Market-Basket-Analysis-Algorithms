{
 "cells": [
  {
   "cell_type": "code",
   "execution_count": 7,
   "id": "45194bcc",
   "metadata": {
    "scrolled": true
   },
   "outputs": [
    {
     "name": "stdout",
     "output_type": "stream",
     "text": [
      "20\n",
      "22\n",
      "0.5635991096496582\n"
     ]
    }
   ],
   "source": [
    "'''Apriori implementation for finding frequent pairs'''\n",
    "import pandas as pd\n",
    "import itertools\n",
    "import time\n",
    "\n",
    "#pass 1 - iterate through basket array, count quantity for each item and store in dict\n",
    "def pass1(basketArray):\n",
    "    itemCount = {}\n",
    "    for i in range(len(basketArray)):\n",
    "        lines = str(basketArray[i]).strip(' \\n').split(' ') #string of items in basket\n",
    "        for j in lines:\n",
    "            if j in itemCount:\n",
    "                itemCount[j] += 1\n",
    "            else:\n",
    "                itemCount[j] = 1\n",
    "            \n",
    "    return itemCount\n",
    "\n",
    "#pass 2 - find pairs where both elements are frequent\n",
    "def pass2(basketArray, frequentItems): \n",
    "    candidateCount = {}\n",
    "\n",
    "    for a in range(len(basketArray)):\n",
    "        lines = str(basketArray[a]).strip(' \\n').split(' ') #string of items in basket\n",
    "        freqItems = [i for i in lines if i in frequentItems]\n",
    "        pairsList = list(itertools.combinations (freqItems, 2)) #iterable list of pairs\n",
    "\n",
    "        #compares pairs made from frequent items and pairs made from whole basket list\n",
    "        for i in pairsList:\n",
    "            if i in candidateCount:\n",
    "                candidateCount[i] += 1\n",
    "            else:\n",
    "                candidateCount[i] = 1         \n",
    "    return candidateCount\n",
    "\n",
    "\n",
    "#check if each item in list is frequent\n",
    "def checkFrequent(countList, support):\n",
    "    frequentList = []\n",
    "    for i in countList:\n",
    "        if countList[i] >= support:\n",
    "            frequentList.append(i)\n",
    "    return set(frequentList)\n",
    "    \n",
    "\n",
    "def apriori(fileName, supp): \n",
    "    #read in file\n",
    "    baskets = pd.read_csv(fileName, sep = '\\t', header = None) \n",
    "    basketArray = baskets.values.ravel()\n",
    "    tu = time.time()\n",
    "    support = int(supp * len(baskets)) \n",
    "\n",
    "    #pass 1\n",
    "    itemCount = pass1(basketArray)         \n",
    "    \n",
    "    #getting frequent items\n",
    "    frequentItems = checkFrequent(itemCount, support)\n",
    "    \n",
    "    #if no items are above support threshold\n",
    "    if len(frequentItems) == 0:\n",
    "        print(\"No frequent items\")\n",
    "        return\n",
    "\n",
    "    #pass 2\n",
    "    candidateCount = pass2(basketArray, frequentItems)\n",
    "        \n",
    "    #getting frequent pairs \n",
    "    frequentPairs = checkFrequent(candidateCount, support)\n",
    "    print(len(frequentItems))\n",
    "    #writing list to txt file\n",
    "    with open('frequentPairsApriori.txt','w+') as f:\n",
    "        f.write(\" \".join(map(str, frequentPairs)))\n",
    "    return frequentPairs\n",
    " \n",
    "st = time.time()   \n",
    "frequentPairs = apriori(\"retail.txt\", 0.02)\n",
    "print(len(frequentPairs))\n",
    "et = time.time()\n",
    "execution = et - st\n",
    "print(execution)"
   ]
  },
  {
   "cell_type": "code",
   "execution_count": null,
   "id": "a0a54c99-dee7-40ce-91fb-48ec92fd8cf6",
   "metadata": {},
   "outputs": [],
   "source": []
  },
  {
   "cell_type": "code",
   "execution_count": null,
   "id": "a169539b",
   "metadata": {},
   "outputs": [],
   "source": []
  },
  {
   "cell_type": "code",
   "execution_count": null,
   "id": "45b73793-3517-4e62-a64b-ee1f472bfb41",
   "metadata": {},
   "outputs": [],
   "source": []
  }
 ],
 "metadata": {
  "kernelspec": {
   "display_name": "Python 3 (ipykernel)",
   "language": "python",
   "name": "python3"
  },
  "language_info": {
   "codemirror_mode": {
    "name": "ipython",
    "version": 3
   },
   "file_extension": ".py",
   "mimetype": "text/x-python",
   "name": "python",
   "nbconvert_exporter": "python",
   "pygments_lexer": "ipython3",
   "version": "3.11.5"
  }
 },
 "nbformat": 4,
 "nbformat_minor": 5
}
